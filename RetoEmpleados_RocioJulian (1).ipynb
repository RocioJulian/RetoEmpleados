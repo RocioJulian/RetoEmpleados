{
 "cells": [
  {
   "cell_type": "code",
   "execution_count": 48,
   "id": "8ad54867",
   "metadata": {},
   "outputs": [],
   "source": [
    "#Reto | Deserción de empleados\n",
    "#Rocio Julian\n",
    "#1.\tImporta las librerías requeridas.\n",
    "\n",
    "import pandas as pd\n",
    "import numpy as np\n",
    "from sklearn import preprocessing\n",
    "from sklearn.decomposition import PCA\n",
    "from sklearn.preprocessing import StandardScaler\n",
    "\n",
    "#2.Lee el archivo CSV llamado empleadosRETO.csv y coloca los datos en un frame de Pandas llamado EmpleadosAttrition.\n",
    "\n",
    "EmpleadosAttrition = pd.read_csv(R\"C:\\Users\\r30363\\OneDrive - Netafim\\Documents\\Data Scientist\\C6. Machine learning\\SC15. Ingeniería de las caracteristicas\\Reto\\empleadosRETO.csv\")\n",
    "                        "
   ]
  },
  {
   "cell_type": "code",
   "execution_count": 49,
   "id": "942f77d1",
   "metadata": {},
   "outputs": [],
   "source": [
    "#3.Elimina las columnas que, con alta probabilidad (estimada por ti), no tienen relación alguna con la salida. \n",
    "#Hay algunas columnas que contienen información que no ayuda a definir el desgaste de un empleado, tal es caso de las siguientes:\n",
    "#a.\tEmployeeCount: número de empleados, todos tienen un 1\n",
    "#b.\tEmployeeNumber: ID del empleado, el cual es único para cada empleado\n",
    "#c.\tOver18: mayores de edad, todos dicen “Y”\n",
    "#d.\tStandardHours: horas de trabajo, todos tienen “80”\n",
    "\n",
    "EmpleadosAttrition = EmpleadosAttrition.drop(['EmployeeCount','EmployeeNumber','Over18','StandardHours'],axis=1)"
   ]
  },
  {
   "cell_type": "code",
   "execution_count": 50,
   "id": "b7a72cc1",
   "metadata": {},
   "outputs": [],
   "source": [
    "#4.\tAnalizando la información proporcionada, detectaste que no se cuenta con los años que el empleado lleva en la compañía y \n",
    "#parece ser un buen dato. \n",
    "#Dicha cantidad se puede calcular con la fecha de contratación ‘HiringDate’:\n",
    "#a.\tCrea una columna llamada Year y obtén el año de contratación del empleado a partir de su fecha ‘HiringDate’. \n",
    "#No se te olvide que debe ser un entero.\n",
    "#b.\tCrea una columna llamada YearsAtCompany que contenga los años que el empleado lleva en la compañía hasta el año 2018.\n",
    "#Para su cálculo, usa la variable Year que acabas de crear.\n",
    "\n",
    "\n",
    "EmpleadosAttrition['HiringDate'] = pd.to_datetime(EmpleadosAttrition['HiringDate'], errors='coerce')\n",
    "EmpleadosAttrition['Year'] = EmpleadosAttrition['HiringDate'].dt.year\n",
    "EmpleadosAttrition['YearsAtCompany'] = 2018-EmpleadosAttrition['Year']\n",
    "\n"
   ]
  },
  {
   "cell_type": "code",
   "execution_count": 51,
   "id": "9e88c2f9",
   "metadata": {},
   "outputs": [],
   "source": [
    "#5.\tLa DistanceFromHome está dada en kilómetros, pero tiene las letras “km” al final y así no puede ser entera:\n",
    "#a.\tRenombra la variable DistanceFromHome a DistanceFromHome_km.\n",
    "#b.\tCrea una nueva variable DistanceFromHome que sea entera, es decir, solo con números\n",
    "\n",
    "EmpleadosAttrition = EmpleadosAttrition.rename(columns={'DistanceFromHome':'DistanceFromHome_km'})\n",
    "EmpleadosAttrition['DistanceFromHome'] = EmpleadosAttrition['DistanceFromHome_km'].str.split().str[0].astype(float)\n"
   ]
  },
  {
   "cell_type": "code",
   "execution_count": 52,
   "id": "fd82afa3",
   "metadata": {},
   "outputs": [],
   "source": [
    "#6.\tBorra las columnas Year, HiringDate y DistanceFromHome_km debido a que ya no son útiles.\n",
    "\n",
    "EmpleadosAttrition = EmpleadosAttrition.drop(['Year','HiringDate','DistanceFromHome_km'],axis=1)\n"
   ]
  },
  {
   "cell_type": "code",
   "execution_count": 53,
   "id": "010e77c5",
   "metadata": {},
   "outputs": [],
   "source": [
    "#7.\tAprovechando los ajustes que se están haciendo, la empresa desea saber si todos los departamentos tienen un ingreso promedio similar. \n",
    "#Genera una nuevo frame llamado SueldoPromedioDepto que contenga el MonthlyIncome promedio por departamento de los empleados\n",
    "#y colócalo en una variable llamada SueldoPromedio. \n",
    "#Esta tabla solo es informativa, no la vas a utilizar en el set de datos que estás construyendo.\n",
    "\n",
    "SueldoPromedioDepto = EmpleadosAttrition.groupby(\"Department\")[\"MonthlyIncome\"].mean().reset_index()\n",
    "SueldoPromedio = SueldoPromedioDepto\n"
   ]
  },
  {
   "cell_type": "code",
   "execution_count": 54,
   "id": "ab72b5ab",
   "metadata": {},
   "outputs": [],
   "source": [
    "#8.\tLa variable MonthlyIncome tiene un valor numérico muy grande comparada con las otras variables. \n",
    "#Escala dicha variable para que tenga un valor entre 0 y 1. \n",
    "\n",
    "escalador = preprocessing.MinMaxScaler()\n",
    "frame_escalado = escalador.fit_transform(SueldoPromedio[[\"MonthlyIncome\"]])\n",
    "SueldoPromedio['MonthlyIncome_esc'] = frame_escalado\n",
    "\n"
   ]
  },
  {
   "cell_type": "code",
   "execution_count": 55,
   "id": "b0a5f2a0",
   "metadata": {},
   "outputs": [],
   "source": [
    "#9.\tTodo parece indicar que las variables categóricas que quedan sí son importantes para obtener la variable de salida. \n",
    "#Convierte todas las variables categóricas que quedan a numéricas:\n",
    "#a.\tBusinessTravel\n",
    "#b.\tDepartment\n",
    "#c.\tEducationField\n",
    "#d.\tGender\n",
    "#e.\tJobRole\n",
    "#f.\tMaritalStatus\n",
    "#g.\tAttrition\n",
    "\n",
    "EmpleadosAttrition = pd.get_dummies(EmpleadosAttrition, columns=['BusinessTravel', \n",
    "                                                                 'Department', \n",
    "                                                                 'EducationField', \n",
    "                                                                 'Gender', 'JobRole', \n",
    "                                                                 'MaritalStatus', 'Attrition'])\n"
   ]
  },
  {
   "cell_type": "code",
   "execution_count": 56,
   "id": "7d763e80",
   "metadata": {},
   "outputs": [
    {
     "name": "stderr",
     "output_type": "stream",
     "text": [
      "C:\\Users\\r30363\\AppData\\Local\\Temp\\ipykernel_30632\\4194818515.py:8: FutureWarning: The default value of numeric_only in DataFrame.corr is deprecated. In a future version, it will default to False. Select only valid columns or specify the value of numeric_only to silence this warning.\n",
      "  correlations = EmpleadosAttrition.corr()['Attrition'].sort_values(ascending=False)\n"
     ]
    }
   ],
   "source": [
    "#10.\tAhora debes hacer la evaluación de las variables para quedarte con las mejores. \n",
    "#Calcula la correlación lineal de cada una de las variables con respecto al Attrition.\n",
    "\n",
    "if 'Attrition_Yes' in EmpleadosAttrition.columns:\n",
    "    EmpleadosAttrition['Attrition'] = EmpleadosAttrition['Attrition_Yes']\n",
    "    EmpleadosAttrition = EmpleadosAttrition.drop(['Attrition_Yes', 'Attrition_No'], axis=1)\n",
    "\n",
    "correlations = EmpleadosAttrition.corr()['Attrition'].sort_values(ascending=False)\n",
    "\n"
   ]
  },
  {
   "cell_type": "code",
   "execution_count": 57,
   "id": "52fcf1a5",
   "metadata": {},
   "outputs": [],
   "source": [
    "#11.\tSelecciona solo aquellas variables que tengan una correlación mayor o igual a 0.1, dejándolas en otro frame \n",
    "#llamado EmpleadosAttritionFinal. \n",
    "#No olvides mantener la variable de Sali<da Attrition; esto es equivalente a borrar las que no cumplen con el límite.\n",
    "\n",
    "selected_features = correlations[correlations >= 0.1].index\n",
    "EmpleadosAttritionFinal = EmpleadosAttrition[selected_features]\n"
   ]
  },
  {
   "cell_type": "code",
   "execution_count": 58,
   "id": "ca5becda",
   "metadata": {},
   "outputs": [
    {
     "name": "stdout",
     "output_type": "stream",
     "text": [
      "Proporción de varianza explicada por cada componente: [0.3722182  0.25923761 0.19637282 0.09303961 0.07913176]\n",
      "Primeros 5 registros del PCA:\n",
      "[[-0.3209446  -0.17001888  0.04862275 -0.06323365 -0.03072831]\n",
      " [-0.3209446  -0.17001888  0.04862275 -0.06323365 -0.03072831]\n",
      " [ 1.13093509  0.11558706  0.60139958  0.44993043 -0.52223114]\n",
      " [ 0.58141073 -0.36462858 -0.32327774 -0.0649331   0.06709332]\n",
      " [ 0.08355051  0.34375218  0.75542148 -0.33183381 -0.05742135]]\n"
     ]
    }
   ],
   "source": [
    "#12.\tCrea una nueva variable llamada EmpleadosAttritionPCA formada por los componentes principales del frame EmpleadosAttritionFinal. \n",
    "#Recuerda que el resultado del proceso PCA es un numpy array, por lo que, para hacer referencia a una columna\n",
    "#por ejemplo, la 0, puedes usar la instrucción EmpleadosAttritionPCA[:,0]).\n",
    "\n",
    "pca = PCA()\n",
    "EmpleadosAttritionPCA = pca.fit_transform(EmpleadosAttritionFinal)\n",
    "\n",
    "print(\"Proporción de varianza explicada por cada componente:\", pca.explained_variance_ratio_)\n",
    "print(\"Primeros 5 registros del PCA:\")\n",
    "print(EmpleadosAttritionPCA[:5])\n",
    "\n"
   ]
  },
  {
   "cell_type": "code",
   "execution_count": 59,
   "id": "bdd4ee72",
   "metadata": {},
   "outputs": [
    {
     "name": "stdout",
     "output_type": "stream",
     "text": [
      "Número mínimo de componentes para explicar el 80% de la varianza: 4\n",
      "   Attrition  MaritalStatus_Single  JobRole_Sales Representative  \\\n",
      "0          0                     0                             0   \n",
      "1          0                     0                             0   \n",
      "2          1                     1                             1   \n",
      "3          0                     1                             0   \n",
      "4          1                     0                             0   \n",
      "\n",
      "   EducationField_Technical Degree  JobRole_Laboratory Technician        C0  \\\n",
      "0                                0                              0 -0.743180   \n",
      "1                                0                              0 -0.743180   \n",
      "2                                0                              0  4.281797   \n",
      "3                                0                              0  0.352972   \n",
      "4                                0                              0  0.817579   \n",
      "\n",
      "         C1        C2        C3  \n",
      "0 -0.496138  0.024802  0.139068  \n",
      "1 -0.496138  0.024802  0.139068  \n",
      "2 -0.255893 -0.953453  1.884216  \n",
      "3 -0.294305 -1.265326 -0.934391  \n",
      "4  0.631884  0.366421 -0.113492  \n"
     ]
    }
   ],
   "source": [
    "#13.\tAgrega el mínimo número de Componentes Principales en columnas del frame EmpleadosAttritionPCA que logren explicar \n",
    "#el 80% de la varianza, al frame EmpleadosAttritionFinal. \n",
    "#Puedes usar la instrucción assign, columna por columna, llamando a cada una C0, C1, etc., hasta las que vayas a agregar.\n",
    "\n",
    "\n",
    "scaler = StandardScaler()\n",
    "scaled_data = scaler.fit_transform(EmpleadosAttritionFinal)\n",
    "pca = PCA()\n",
    "EmpleadosAttritionPCA = pca.fit_transform(scaled_data)\n",
    "\n",
    "\n",
    "cumulative_variance = pca.explained_variance_ratio_.cumsum()\n",
    "num_components = (cumulative_variance >= 0.8).argmax() + 1\n",
    "\n",
    "print(f\"Número mínimo de componentes para explicar el 80% de la varianza: {num_components}\")\n",
    "\n",
    "\n",
    "pca_columns = {f'C{i}': EmpleadosAttritionPCA[:, i] for i in range(num_components)}\n",
    "pca_df = pd.DataFrame(pca_columns)\n",
    "\n",
    "\n",
    "EmpleadosAttritionFinal = EmpleadosAttritionFinal.assign(**pca_df)\n",
    "\n",
    "\n",
    "print(EmpleadosAttritionFinal.head())\n",
    "\n",
    "\n"
   ]
  },
  {
   "cell_type": "code",
   "execution_count": 61,
   "id": "66a7ce90",
   "metadata": {},
   "outputs": [
    {
     "name": "stdout",
     "output_type": "stream",
     "text": [
      "El archivo EmpleadosAttritionFinal.csv ha sido guardado exitosamente.\n"
     ]
    }
   ],
   "source": [
    "#14.\tGuarda el set de datos que has formado y que tienes en EmpleadosAttritionFinal en un archivo CSV \n",
    "#llamado EmpleadosAttritionFinal.csv. \n",
    "#Las últimas columnas que colocaste quedarán después de la variable Attrition, lo cual no importa, \n",
    "#pero si gustas lo puedes arreglar antes de escribir el archivo.\n",
    "\n",
    "pca_columns = [col for col in EmpleadosAttritionFinal.columns if col.startswith('C')]\n",
    "\n",
    "\n",
    "ordered_columns = [col for col in EmpleadosAttritionFinal.columns if col not in pca_columns + ['Attrition']]\n",
    "ordered_columns += ['Attrition'] + pca_columns\n",
    "\n",
    "\n",
    "EmpleadosAttritionFinal = EmpleadosAttritionFinal[ordered_columns]\n",
    "\n",
    "\n",
    "EmpleadosAttritionFinal.to_csv(R\"C:\\Users\\r30363\\OneDrive - Netafim\\Documents\\Data Scientist\\C6. Machine learning\\SC15. Ingeniería de las caracteristicas\\Reto\\EmpleadosAttritionFinal.csv\", index=False)\n",
    "\n",
    "print(\"El archivo EmpleadosAttritionFinal.csv ha sido guardado exitosamente.\")\n"
   ]
  },
  {
   "cell_type": "code",
   "execution_count": null,
   "id": "1a6ec87f",
   "metadata": {},
   "outputs": [],
   "source": []
  }
 ],
 "metadata": {
  "kernelspec": {
   "display_name": "Python 3 (ipykernel)",
   "language": "python",
   "name": "python3"
  },
  "language_info": {
   "codemirror_mode": {
    "name": "ipython",
    "version": 3
   },
   "file_extension": ".py",
   "mimetype": "text/x-python",
   "name": "python",
   "nbconvert_exporter": "python",
   "pygments_lexer": "ipython3",
   "version": "3.10.9"
  }
 },
 "nbformat": 4,
 "nbformat_minor": 5
}
